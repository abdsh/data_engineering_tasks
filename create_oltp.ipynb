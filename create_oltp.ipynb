{
 "cells": [
  {
   "cell_type": "code",
   "execution_count": 1,
   "id": "0be2ddba",
   "metadata": {},
   "outputs": [],
   "source": [
    "import psycopg2\n"
   ]
  },
  {
   "cell_type": "markdown",
   "id": "234a3b8f",
   "metadata": {},
   "source": [
    "## Create customer table in oltp_db Database\n",
    "# and\n",
    "## Load CSV into customer table "
   ]
  },
  {
   "cell_type": "code",
   "execution_count": 2,
   "id": "71c171f4",
   "metadata": {},
   "outputs": [
    {
     "name": "stdout",
     "output_type": "stream",
     "text": [
      "Table created  and data loaded successfully in PostgreSQL \n"
     ]
    }
   ],
   "source": [
    "# create connection to postgresql \n",
    "conn = psycopg2.connect(database = \"oltp_db\", user = \"postgres\", password = \"postgres\", host = \"127.0.0.1\", port = \"5432\")\n",
    "\n",
    "# create cursor\n",
    "cursor = conn.cursor()\n",
    "\n",
    "# SQL CREATE TABLE Statement for creating customer table\n",
    "create_table_query = '''CREATE TABLE CUSTOMER\n",
    "    (CUST_ID      TEXT  NOT NULL,\n",
    "    NAME          TEXT  NOT NULL,\n",
    "    ADDRESS       TEXT,\n",
    "    CITY          TEXT,      \n",
    "    TIMEZ         timestamp without time zone);'''\n",
    "\n",
    "cursor.execute(create_table_query)\n",
    "\n",
    "#loading csv data into customer table using postgresql COPY command\n",
    "load_query = \"COPY CUSTOMER (CUST_ID, NAME, ADDRESS, CITY, TIMEZ ) FROM '/var/lib/pgsql/customer.csv' CSV;\"\n",
    "cursor.execute(load_query)\n",
    "\n",
    "conn.commit()\n",
    "\n",
    "cursor.close()\n",
    "conn.close()\n",
    "    \n",
    "print(\"Table created  and data loaded successfully in PostgreSQL \")"
   ]
  },
  {
   "cell_type": "code",
   "execution_count": null,
   "id": "30b99fef",
   "metadata": {},
   "outputs": [],
   "source": []
  }
 ],
 "metadata": {
  "kernelspec": {
   "display_name": "Python 3",
   "language": "python",
   "name": "python3"
  },
  "language_info": {
   "codemirror_mode": {
    "name": "ipython",
    "version": 3
   },
   "file_extension": ".py",
   "mimetype": "text/x-python",
   "name": "python",
   "nbconvert_exporter": "python",
   "pygments_lexer": "ipython3",
   "version": "3.9.5"
  }
 },
 "nbformat": 4,
 "nbformat_minor": 5
}
