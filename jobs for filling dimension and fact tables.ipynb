{
 "cells": [
  {
   "cell_type": "markdown",
   "id": "02fbeb98",
   "metadata": {},
   "source": [
    "#### Since we have slowly changing dimensions, we need jobs to be executed every day, these jobs will read previous day data  from oltp_db and also dwh_db and fill dimensions . \n",
    "#### Since our oltp tables already have data we shoud simiulate this kind of execution for older date until get today. and we can schedule jobs to run every morning. We have 3 jobs ,two of them will fill dimentions <span style='color:red'>(DIMCUSTOMER, DIMPRODUCT)</span> and one will fact table <span style='color:red'>(FACTORDER)</span> \n",
    "\n"
   ]
  },
  {
   "cell_type": "markdown",
   "id": "c2f8dfcc",
   "metadata": {},
   "source": [
    "#### ++++++++++++++++++++++++++++++++++++++++++++++++++++++++++++++++++++++++++++++++++++++++++++++++++++"
   ]
  },
  {
   "cell_type": "markdown",
   "id": "c7e753f7",
   "metadata": {},
   "source": [
    "## Slowly changing dimension\n",
    "\n",
    "Slowly changing dimensions are the dimensions in which the data changes slowly rather than changing regularly.\n",
    "\n",
    "we have 3 type os slowly changing dimension:\n",
    "\n",
    "* **TYPE0** :\n",
    "   passive method. values remain as they were at the time the dimension record was first inserted.\n",
    "   \n",
    "\n",
    "* **TYPE1**:\n",
    "   used when no need to store historical data in the dimension table . overwrite the old data with the new data.\n",
    "   \n",
    "\n",
    "* **TYPE2**:\n",
    "   stores the entire history of the data. with TYPE2 we can store unlimited history in the dimension table.\n",
    "\n"
   ]
  },
  {
   "cell_type": "markdown",
   "id": "8d4b61b0",
   "metadata": {},
   "source": [
    "# <span style='color:blue'> Dimcustomer</span> "
   ]
  },
  {
   "cell_type": "markdown",
   "id": "26b32cf4",
   "metadata": {},
   "source": [
    "I have decided to consider two columns **name** and **address** as <span style='color:red'>TYPE1</span> and\n",
    "column city as <span style='color:red'>TYPE2</span>.\n"
   ]
  },
  {
   "cell_type": "markdown",
   "id": "5888aba4",
   "metadata": {},
   "source": [
    "##### <span style='color:green'>Foreign Data Wrapper</span>\n",
    "For transefring data between two database first we need to create a <span style='color:red'> Foreign Data Wrapper</span>  so we can query data from <span style='color:green'> oltp_db</span> when we connect to <span style='color:green'> dwh_db</span> .\n",
    "we create a Wrapper once here and will use it for all jobs."
   ]
  },
  {
   "cell_type": "code",
   "execution_count": 1,
   "id": "5bdd25f0",
   "metadata": {},
   "outputs": [],
   "source": [
    "import psycopg2\n"
   ]
  },
  {
   "cell_type": "code",
   "execution_count": 5,
   "id": "51a3aa6e",
   "metadata": {
    "scrolled": true
   },
   "outputs": [
    {
     "name": "stdout",
     "output_type": "stream",
     "text": [
      "Done!\n"
     ]
    }
   ],
   "source": [
    "# create connection to postgresql (db:dwh_db)\n",
    "conn = psycopg2.connect(database = \"dwh_db\", user = \"postgres\", password = \"postgres\", host = \"127.0.0.1\", port = \"5432\")\n",
    "\n",
    "# create cursor\n",
    "cursor = conn.cursor()\n",
    "\n",
    "# Load the extension in my local database\n",
    "ext_stmnt = \"CREATE EXTENSION postgres_fdw;\"\n",
    "cursor.execute(ext_stmnt)\n",
    "\n",
    "# Create a foreign server\n",
    "srv_stmnt = '''CREATE SERVER oltp_bridge\n",
    "FOREIGN DATA WRAPPER postgres_fdw\n",
    "OPTIONS (host '127.0.0.1', dbname 'oltp_db');'''\n",
    "cursor.execute(srv_stmnt)\n",
    "\n",
    "# Set up a user mapping to authenticate\n",
    "mpr_stmnt = '''CREATE USER MAPPING FOR postgres\n",
    "    SERVER oltp_bridge\n",
    "    OPTIONS (user 'postgres', password 'postgres');'''\n",
    "cursor.execute(mpr_stmnt)\n",
    "\n",
    "# Run IMPORT FOREIGN SCHEMA, which imports tables and views from a schema,\n",
    "# and creates foreign tables that match the definitions for the external tables.\n",
    "sch_stmnt = '''IMPORT FOREIGN SCHEMA public \n",
    "FROM SERVER oltp_bridge INTO public;'''\n",
    "cursor.execute(sch_stmnt)\n",
    "\n",
    "conn.commit()\n",
    "\n",
    "cursor.close()\n",
    "conn.close()\n",
    "    \n",
    "print(\"Done!\")"
   ]
  },
  {
   "cell_type": "markdown",
   "id": "99f2657e",
   "metadata": {},
   "source": [
    "#### <span style='color:green'>create a sequence</span>\n",
    "\n",
    "This sequence will be used for creating <span style='color:red'>surrogate key</span> in dimcustomer"
   ]
  },
  {
   "cell_type": "code",
   "execution_count": 15,
   "id": "25c2ea54",
   "metadata": {},
   "outputs": [],
   "source": [
    "# create connection to postgresql (db:dwh_db)\n",
    "conn = psycopg2.connect(database = \"dwh_db\", user = \"postgres\", password = \"postgres\", host = \"127.0.0.1\", port = \"5432\")\n",
    "\n",
    "# create cursor\n",
    "cursor = conn.cursor()\n",
    "\n",
    "# Load the extension in my local database\n",
    "sq_stmnt = \"CREATE SEQUENCE idno START 1;\"\n",
    "cursor.execute(sq_stmnt)\n",
    "\n",
    "conn.commit()\n",
    "\n",
    "cursor.close()\n",
    "conn.close()"
   ]
  },
  {
   "cell_type": "markdown",
   "id": "79d700f1",
   "metadata": {},
   "source": [
    "#### <span style='color:green'>SQL query for filling dimcustomer</span>"
   ]
  },
  {
   "cell_type": "code",
   "execution_count": 2,
   "id": "3a789d77",
   "metadata": {},
   "outputs": [],
   "source": [
    "dim_customer_query_job = '''\n",
    "insert into dimcustomer (ID,CUST_ID,NAME,ADDRESS,CITY,STARTDATE,ENDDATE,RECENTFLAG)\n",
    "select\n",
    "    case \n",
    "        when dimcustomer.ID is NULL then nextval('idno')\n",
    "        else dimcustomer.ID\n",
    "    end AS ID,\n",
    "    customer.CUST_ID,\n",
    "    customer.NAME,\n",
    "    case \n",
    "        when dimcustomer.ID is NULL then customer.ADDRESS\n",
    "        when customer.city = dimcustomer.city then customer.ADDRESS\n",
    "        else dimcustomer.ADDRESS\n",
    "    end AS ADDRESS,\n",
    "    case \n",
    "        when dimcustomer.ID is NULL then customer.CITY\n",
    "        else dimcustomer.CITY\n",
    "    end AS CITY,\n",
    "    case \n",
    "        when dimcustomer.ID is NULL then DATE(customer.timez)\n",
    "        else dimcustomer.STARTDATE\n",
    "    end AS STARTDATE,\n",
    "    case \n",
    "        when dimcustomer.ID is NULL then '2099-01-01'\n",
    "        when dimcustomer.recentflag = 1 and customer.city <> dimcustomer.city then DATE(customer.timez)+ INTERVAL '-1 day'\n",
    "        else dimcustomer.ENDDATE\n",
    "    end AS ENDDATE,\n",
    "    case \n",
    "        when dimcustomer.ID is NULL then 1\n",
    "        when dimcustomer.recentflag = 1 and customer.city <> dimcustomer.city then 0\n",
    "        else dimcustomer.RECENTFLAG\n",
    "    end AS RECENTFLAG\n",
    "from dimcustomer\n",
    "right join customer\n",
    "on dimcustomer.cust_id=customer.cust_id\n",
    "where Date(customer.TIMEZ) = '{date}'\n",
    "union all\n",
    "select\n",
    "    nextval('idno') AS ID,\n",
    "    customer.CUST_ID,\n",
    "    customer.NAME,\n",
    "    customer.ADDRESS,\n",
    "    customer.CITY,\n",
    "    DATE(customer.timez) AS STARTDATE,\n",
    "    '2099-01-01' AS ENDDATE,\n",
    "    1 AS RECENTFLAG\n",
    "from dimcustomer\n",
    "inner join customer\n",
    "on dimcustomer.cust_id=customer.cust_id\n",
    "where Date(customer.TIMEZ) = '{date}' and dimcustomer.recentflag = 1 and customer.city <> dimcustomer.city\n",
    "ON CONFLICT (ID,CUST_ID)\n",
    "DO\n",
    "UPDATE set name = EXCLUDED.NAME , ADDRESS = EXCLUDED.ADDRESS ,  ENDDATE = EXCLUDED.ENDDATE, RECENTFLAG = EXCLUDED.RECENTFLAG;\n",
    "\n",
    "'''"
   ]
  },
  {
   "cell_type": "code",
   "execution_count": 3,
   "id": "5604d9a7",
   "metadata": {},
   "outputs": [],
   "source": [
    "def execute_query(date):\n",
    "    \n",
    "    #create sql query (job) for a date\n",
    "    sql_query = dim_customer_query_job.format(date=date)\n",
    "    \n",
    "    # create connection to postgresql\n",
    "    conn = psycopg2.connect(database = \"dwh_db\", user = \"postgres\", password = \"postgres\", host = \"127.0.0.1\", port = \"5432\")\n",
    "    \n",
    "    # create cursor\n",
    "    cursor = conn.cursor()\n",
    "    \n",
    "    # execute job   \n",
    "    cursor.execute(sql_query)\n",
    "    \n",
    "    conn.commit()\n",
    "    \n",
    "    cursor.close()\n",
    "    conn.close()\n",
    "    \n",
    "    print(\"Job executed for date {}\".format(date))\n",
    "      "
   ]
  },
  {
   "cell_type": "markdown",
   "id": "fc35bdd9",
   "metadata": {},
   "source": [
    "##### we have five dates in customer  table so we shoud run our job for:\n",
    "* *2020-02-13*\n",
    "* *2020-02-14*\n",
    "* *2020-02-16* \n",
    "* *2020-02-17*\n",
    "* *2020-02-18*"
   ]
  },
  {
   "cell_type": "code",
   "execution_count": 4,
   "id": "0752c9fe",
   "metadata": {},
   "outputs": [
    {
     "name": "stdout",
     "output_type": "stream",
     "text": [
      "Job executed for date 2020-02-13\n",
      "Job executed for date 2020-02-14\n",
      "Job executed for date 2020-02-16\n",
      "Job executed for date 2020-02-17\n",
      "Job executed for date 2020-02-18\n"
     ]
    }
   ],
   "source": [
    "execute_query('2020-02-13')\n",
    "execute_query('2020-02-14')\n",
    "execute_query('2020-02-16')\n",
    "execute_query('2020-02-17')\n",
    "execute_query('2020-02-18')"
   ]
  },
  {
   "cell_type": "code",
   "execution_count": null,
   "id": "93f3f313",
   "metadata": {},
   "outputs": [],
   "source": []
  },
  {
   "cell_type": "markdown",
   "id": "09431b81",
   "metadata": {},
   "source": [
    "# <span style='color:blue'> Dimproduct</span> "
   ]
  },
  {
   "cell_type": "markdown",
   "id": "5a9b6449",
   "metadata": {},
   "source": [
    "I have decided to consider all columns as <span style='color:red'>TYPE1</span> .\n"
   ]
  },
  {
   "cell_type": "markdown",
   "id": "5f5813de",
   "metadata": {},
   "source": [
    "#### <span style='color:green'>SQL query for filling dimproduct</span>"
   ]
  },
  {
   "cell_type": "code",
   "execution_count": 5,
   "id": "82bf7133",
   "metadata": {},
   "outputs": [],
   "source": [
    "dim_product_query_job = '''\n",
    "insert into dimproduct (product_id,name,unc1,unc2)\n",
    "select\n",
    "    case \n",
    "        when dimproduct.product_id is NULL then product.product_id\n",
    "        else dimproduct.product_id\n",
    "    end AS product_id,\n",
    "    product.name,\n",
    "    product.unc1,\n",
    "    product.unc2\n",
    "from dimproduct\n",
    "RIGHT join product\n",
    "on dimproduct.product_id=product.product_id\n",
    "where Date(product.TIMEZ) = '{date}'\n",
    "ON CONFLICT (product_id)\n",
    "DO\n",
    "UPDATE set name = EXCLUDED.NAME , unc1 = EXCLUDED.unc1 , unc2 = EXCLUDED.unc2  ;\n",
    "\n",
    "'''"
   ]
  },
  {
   "cell_type": "code",
   "execution_count": 6,
   "id": "0273b9ae",
   "metadata": {},
   "outputs": [],
   "source": [
    "def execute_query2(date):\n",
    "    \n",
    "    #create sql query (job) for a date\n",
    "    sql_query = dim_product_query_job.format(date=date)\n",
    "    \n",
    "    # create connection to postgresql\n",
    "    conn = psycopg2.connect(database = \"dwh_db\", user = \"postgres\", password = \"postgres\", host = \"127.0.0.1\", port = \"5432\")\n",
    "    \n",
    "    # create cursor\n",
    "    cursor = conn.cursor()\n",
    "    \n",
    "    # execute job   \n",
    "    cursor.execute(sql_query)\n",
    "    \n",
    "    conn.commit()\n",
    "    \n",
    "    cursor.close()\n",
    "    conn.close()\n",
    "    \n",
    "    print(\"Job executed for date {}\".format(date))"
   ]
  },
  {
   "cell_type": "markdown",
   "id": "64fd4d1d",
   "metadata": {},
   "source": [
    "##### we have three dates in product  table so we shoud run our job for:\n",
    "* *2020-02-13*\n",
    "* *2020-02-16* \n",
    "* *2020-02-18*"
   ]
  },
  {
   "cell_type": "code",
   "execution_count": 7,
   "id": "18875593",
   "metadata": {},
   "outputs": [
    {
     "name": "stdout",
     "output_type": "stream",
     "text": [
      "Job executed for date 2020-02-13\n",
      "Job executed for date 2020-02-16\n",
      "Job executed for date 2020-02-18\n"
     ]
    }
   ],
   "source": [
    "execute_query2('2020-02-13')\n",
    "execute_query2('2020-02-16')\n",
    "execute_query2('2020-02-18')"
   ]
  },
  {
   "cell_type": "markdown",
   "id": "0bc9727f",
   "metadata": {},
   "source": [
    "# <span style='color:blue'>Factorder</span> "
   ]
  },
  {
   "cell_type": "markdown",
   "id": "2e07581b",
   "metadata": {},
   "source": [
    "##### we need a query to find all <span style='color:red'>surrogate key</span> from dimensions and other <span style='color:red'> measures</span>"
   ]
  },
  {
   "cell_type": "markdown",
   "id": "ee104f03",
   "metadata": {},
   "source": [
    "#### <span style='color:green'>SQL query for filling factorder</span>"
   ]
  },
  {
   "cell_type": "code",
   "execution_count": 8,
   "id": "a380e0eb",
   "metadata": {},
   "outputs": [],
   "source": [
    "fact_order_query_job = '''\n",
    "insert into factorder (date, time, orderid, c_id, p_id, quantity, uprice)\n",
    "select \n",
    "    Date(orderinfo.timez),\n",
    "    orderinfo.timez::time AS time,\n",
    "    orderinfo.order_id,\n",
    "    dimcustomer.id as c_id,\n",
    "    dimproduct.product_id as p_id,\n",
    "    orderline.quantity,\n",
    "    orderline.uprice\n",
    "from orderline \n",
    "inner join orderinfo\n",
    "on orderline.order_id=orderinfo.order_id and Date(orderinfo.timez) = '{date}'\n",
    "inner join dimcustomer\n",
    "on orderinfo.cust_id = dimcustomer.cust_id and Date(orderinfo.timez) >= dimcustomer.startdate\n",
    "and Date(orderinfo.timez) < dimcustomer.enddate\n",
    "inner join dimproduct on dimproduct.product_id = orderline.product_id\n",
    "\n",
    "'''"
   ]
  },
  {
   "cell_type": "code",
   "execution_count": 9,
   "id": "4a823990",
   "metadata": {},
   "outputs": [],
   "source": [
    "def execute_query3(date):\n",
    "    \n",
    "    #create sql query (job) for a date\n",
    "    sql_query = fact_order_query_job.format(date=date)\n",
    "    \n",
    "    # create connection to postgresql\n",
    "    conn = psycopg2.connect(database = \"dwh_db\", user = \"postgres\", password = \"postgres\", host = \"127.0.0.1\", port = \"5432\")\n",
    "    \n",
    "    # create cursor\n",
    "    cursor = conn.cursor()\n",
    "    \n",
    "    # execute job   \n",
    "    cursor.execute(sql_query)\n",
    "    \n",
    "    conn.commit()\n",
    "    \n",
    "    cursor.close()\n",
    "    conn.close()\n",
    "    \n",
    "    print(\"Job executed for date {}\".format(date))"
   ]
  },
  {
   "cell_type": "markdown",
   "id": "6c0a78a7",
   "metadata": {},
   "source": [
    "##### we have five dates in orderinfo so we shoud run our job for:\n",
    "* *2020-02-13*\n",
    "* *2020-02-14* \n",
    "* *2020-02-16*\n",
    "* *2020-02-17*\n",
    "* *2020-02-18*"
   ]
  },
  {
   "cell_type": "code",
   "execution_count": 10,
   "id": "e657f8d3",
   "metadata": {},
   "outputs": [
    {
     "name": "stdout",
     "output_type": "stream",
     "text": [
      "Job executed for date 2020-02-13\n",
      "Job executed for date 2020-02-14\n",
      "Job executed for date 2020-02-16\n",
      "Job executed for date 2020-02-17\n",
      "Job executed for date 2020-02-18\n"
     ]
    }
   ],
   "source": [
    "execute_query3('2020-02-13')\n",
    "execute_query3('2020-02-14')\n",
    "execute_query3('2020-02-16')\n",
    "execute_query3('2020-02-17')\n",
    "execute_query3('2020-02-18')"
   ]
  }
 ],
 "metadata": {
  "kernelspec": {
   "display_name": "Python 3",
   "language": "python",
   "name": "python3"
  },
  "language_info": {
   "codemirror_mode": {
    "name": "ipython",
    "version": 3
   },
   "file_extension": ".py",
   "mimetype": "text/x-python",
   "name": "python",
   "nbconvert_exporter": "python",
   "pygments_lexer": "ipython3",
   "version": "3.9.5"
  }
 },
 "nbformat": 4,
 "nbformat_minor": 5
}
