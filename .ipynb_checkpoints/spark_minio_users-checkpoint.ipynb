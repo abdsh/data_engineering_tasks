{
 "cells": [
  {
   "cell_type": "code",
   "execution_count": 1,
   "id": "f64e70d0",
   "metadata": {},
   "outputs": [],
   "source": [
    "import findspark\n",
    "findspark.init()\n",
    "\n",
    "import pyspark\n",
    "from pyspark.sql import SparkSession"
   ]
  },
  {
   "cell_type": "code",
   "execution_count": 2,
   "id": "1604d370",
   "metadata": {},
   "outputs": [],
   "source": [
    "def create_spark_session():\n",
    "    spark = SparkSession \\\n",
    "      .builder \\\n",
    "      .config(\"spark.jars.packages\", \"org.apache.hadoop:hadoop-aws:3.2.0\") \\\n",
    "      .config(\"spark.hadoop.fs.s3a.impl\",\"org.apache.hadoop.fs.s3a.S3AFileSystem\") \\\n",
    "      .getOrCreate()\n",
    "  \n",
    "    sc=spark.sparkContext\n",
    "    return spark"
   ]
  },
  {
   "cell_type": "code",
   "execution_count": 3,
   "id": "8aecdfe2",
   "metadata": {},
   "outputs": [],
   "source": [
    "spark = create_spark_session()"
   ]
  },
  {
   "cell_type": "code",
   "execution_count": 4,
   "id": "a39a72e9",
   "metadata": {},
   "outputs": [
    {
     "data": {
      "text/html": [
       "\n",
       "            <div>\n",
       "                <p><b>SparkSession - in-memory</b></p>\n",
       "                \n",
       "        <div>\n",
       "            <p><b>SparkContext</b></p>\n",
       "\n",
       "            <p><a href=\"http://fedora:4040\">Spark UI</a></p>\n",
       "\n",
       "            <dl>\n",
       "              <dt>Version</dt>\n",
       "                <dd><code>v3.2.0</code></dd>\n",
       "              <dt>Master</dt>\n",
       "                <dd><code>local[*]</code></dd>\n",
       "              <dt>AppName</dt>\n",
       "                <dd><code>pyspark-shell</code></dd>\n",
       "            </dl>\n",
       "        </div>\n",
       "        \n",
       "            </div>\n",
       "        "
      ],
      "text/plain": [
       "<pyspark.sql.session.SparkSession at 0x7fb7f42330d0>"
      ]
     },
     "execution_count": 4,
     "metadata": {},
     "output_type": "execute_result"
    }
   ],
   "source": [
    "spark"
   ]
  },
  {
   "cell_type": "code",
   "execution_count": 6,
   "id": "b116923f",
   "metadata": {},
   "outputs": [],
   "source": [
    "sc=spark.sparkContext\n",
    "hadoop_conf = sc._jsc.hadoopConfiguration()\n",
    "\n",
    "hadoop_conf.set(\"fs.s3a.endpoint\", '127.0.0.1:9000')\n",
    "hadoop_conf.set(\"fs.s3a.access.key\", 'minioadmin')\n",
    "hadoop_conf.set(\"fs.s3a.secret.key\",'minioadmin')\n",
    "hadoop_conf.set(\"fs.s3a.connection.ssl.enabled\", \"false\") \n",
    "hadoop_conf.set(\"spark.hadoop.fs.s3a.path.style.access\", \"true\")\n",
    "hadoop_conf.set(\"fs.s3a.aws.credentials.provider\", \"org.apache.hadoop.fs.s3a.SimpleAWSCredentialsProvider\")\n",
    "hadoop_conf.set(\"fs.s3a.impl\",\"org.apache.hadoop.fs.s3a.S3AFileSystem\")"
   ]
  },
  {
   "cell_type": "markdown",
   "id": "283c0370",
   "metadata": {},
   "source": [
    "##### we’re going to read a directory of JSON files and enforce a schema on load to make sure each file has all of the columns that we’re expecting."
   ]
  },
  {
   "cell_type": "code",
   "execution_count": 7,
   "id": "24bb1025",
   "metadata": {},
   "outputs": [],
   "source": [
    "from pyspark.sql.types import StructType, StructField, StringType, IntegerType, DoubleType,LongType, BooleanType,TimestampType"
   ]
  },
  {
   "cell_type": "code",
   "execution_count": 8,
   "id": "a0cf688a",
   "metadata": {},
   "outputs": [],
   "source": [
    "data_schema = [StructField('message',StructType([StructField('id', LongType(), True),\n",
    "                           StructField('id_str', StringType(), True),\n",
    "                           StructField('name', StringType(), True),\n",
    "                           StructField('screen_name', StringType(), True),\n",
    "                           StructField('location', StringType(), True),\n",
    "                           StructField('description', StringType(), True),\n",
    "                           StructField('url', StringType(), True),\n",
    "                           StructField('protected', BooleanType(), True),\n",
    "                           StructField('followers_count', LongType(), True),\n",
    "                           StructField('friends_count', LongType(), True),\n",
    "                           StructField('listed_count', LongType(), True),\n",
    "                           StructField('created_at', StringType(), True),\n",
    "                           StructField('favourites_count', StringType(), True),\n",
    "                           StructField('statuses_count', LongType(), True),\n",
    "                           StructField('lang', StringType(), True),\n",
    "                           StructField('profile_image_url_https', StringType(), True)])),\n",
    "              StructField('timestamp', LongType(), True)]\n",
    "\n",
    "final_struct = StructType(fields=data_schema)"
   ]
  },
  {
   "cell_type": "markdown",
   "id": "1dc48bbf",
   "metadata": {},
   "source": [
    "## 1- Read JSON files from Minio.\n",
    "## and at the same time\n",
    "## 2 - Select the following fields; id, id_str, name, screen_name, location, description, url, protected, followers_count, friends_count, listed_count, created_at, favourites_count, statuses_count, lang, profile_image_url_https, timestamp.\n",
    "\n",
    "## we can do it in this way because spark is Schema On Read"
   ]
  },
  {
   "cell_type": "code",
   "execution_count": 10,
   "id": "bb1563f3",
   "metadata": {},
   "outputs": [],
   "source": [
    "df = spark.read.json(\"s3a://users/*.json\",schema=final_struct)"
   ]
  },
  {
   "cell_type": "code",
   "execution_count": 12,
   "id": "2f12f518",
   "metadata": {},
   "outputs": [
    {
     "name": "stdout",
     "output_type": "stream",
     "text": [
      "+--------------------+-------------+\n",
      "|             message|    timestamp|\n",
      "+--------------------+-------------+\n",
      "|{1005019322991955...|1579706091269|\n",
      "|{16341288, 163412...|1579706091271|\n",
      "+--------------------+-------------+\n",
      "only showing top 2 rows\n",
      "\n"
     ]
    }
   ],
   "source": [
    "df.show(2)"
   ]
  },
  {
   "cell_type": "markdown",
   "id": "f3ed4936",
   "metadata": {},
   "source": [
    "#### Since we have to use  SPARK SQL , we shoud create view which allow us to use sql ."
   ]
  },
  {
   "cell_type": "code",
   "execution_count": 13,
   "id": "6c1436da",
   "metadata": {},
   "outputs": [],
   "source": [
    "df.createOrReplaceTempView('userdata')"
   ]
  },
  {
   "cell_type": "code",
   "execution_count": 14,
   "id": "e42ccf59",
   "metadata": {},
   "outputs": [],
   "source": [
    "df2 = spark.sql('''select \n",
    "message.*,\n",
    "timestamp\n",
    "from userdata\n",
    "\n",
    "''')"
   ]
  },
  {
   "cell_type": "code",
   "execution_count": 15,
   "id": "806f5575",
   "metadata": {},
   "outputs": [],
   "source": [
    "df2.createOrReplaceTempView('userdata2')"
   ]
  },
  {
   "cell_type": "markdown",
   "id": "6c83d376",
   "metadata": {},
   "source": [
    "# 3 - Remove duplicate users.\n",
    "\n",
    "### i picked last user recored based on timestamp."
   ]
  },
  {
   "cell_type": "code",
   "execution_count": 17,
   "id": "893ddfab",
   "metadata": {},
   "outputs": [],
   "source": [
    "df3 = spark.sql('''\n",
    "select U.* from userdata2 U\n",
    "inner join\n",
    "(select id,timestamp, row_number() over (partition by id order by timestamp desc ) as recordrank from userdata2) H\n",
    "on U.id=H.id and U.timestamp = H.timestamp\n",
    "where H.recordrank=1\n",
    "''')"
   ]
  },
  {
   "cell_type": "code",
   "execution_count": 18,
   "id": "d1ec5c77",
   "metadata": {},
   "outputs": [],
   "source": [
    "df3.createOrReplaceTempView('userdata3')"
   ]
  },
  {
   "cell_type": "markdown",
   "id": "4aa743c3",
   "metadata": {},
   "source": [
    "# 4- Remove space characters from description, name, location, and URL fields.\n",
    "# 5- Convert created_at field to DateTime with (year-month-day) format."
   ]
  },
  {
   "cell_type": "code",
   "execution_count": 19,
   "id": "a4bfdd1a",
   "metadata": {},
   "outputs": [],
   "source": [
    "df4 = spark.sql('''\n",
    "select \n",
    "id,\n",
    "id_str,\n",
    "replace(name,' ','') AS name,\n",
    "screen_name,\n",
    "replace(location,' ','') AS location,\n",
    "replace(description,' ','') AS description,\n",
    "replace(url,' ','') AS url,\n",
    "protected,\n",
    "followers_count,\n",
    "friends_count,\n",
    "listed_count,\n",
    "date_format(to_timestamp(substr(created_at,5),'MMM dd HH:mm:ss Z yyyy'),'yyyy-MM-dd') AS created_at,\n",
    "favourites_count,\n",
    "statuses_count,\n",
    "lang,\n",
    "profile_image_url_https,\n",
    "timestamp\n",
    "from userdata3\n",
    "\n",
    "''')"
   ]
  },
  {
   "cell_type": "markdown",
   "id": "62a81385",
   "metadata": {},
   "source": [
    "# 6- Load data in MINIO.\n",
    "##### because i want to have just one csv file i do repartitioning"
   ]
  },
  {
   "cell_type": "code",
   "execution_count": 21,
   "id": "a0cbf17b",
   "metadata": {},
   "outputs": [],
   "source": [
    "df4.repartition(1).write.csv('s3a://users/users.csv',header=True)"
   ]
  }
 ],
 "metadata": {
  "kernelspec": {
   "display_name": "Python 3",
   "language": "python",
   "name": "python3"
  },
  "language_info": {
   "codemirror_mode": {
    "name": "ipython",
    "version": 3
   },
   "file_extension": ".py",
   "mimetype": "text/x-python",
   "name": "python",
   "nbconvert_exporter": "python",
   "pygments_lexer": "ipython3",
   "version": "3.9.5"
  }
 },
 "nbformat": 4,
 "nbformat_minor": 5
}
