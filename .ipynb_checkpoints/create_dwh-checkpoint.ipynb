{
 "cells": [
  {
   "cell_type": "code",
   "execution_count": 1,
   "id": "478404cd",
   "metadata": {},
   "outputs": [],
   "source": [
    "import psycopg2\n"
   ]
  },
  {
   "cell_type": "markdown",
   "id": "d8d1c05b",
   "metadata": {},
   "source": [
    "## Create DIMCUSTOMER table in dwh_db Database"
   ]
  },
  {
   "cell_type": "code",
   "execution_count": 2,
   "id": "093a835e",
   "metadata": {},
   "outputs": [
    {
     "name": "stdout",
     "output_type": "stream",
     "text": [
      "Table created successfully in PostgreSQL \n"
     ]
    }
   ],
   "source": [
    "# create connection to postgresql \n",
    "conn = psycopg2.connect(database = \"dwh_db\", user = \"postgres\", password = \"postgres\", host = \"127.0.0.1\", port = \"5432\")\n",
    "\n",
    "# create cursor\n",
    "cursor = conn.cursor()\n",
    "\n",
    "# SQL CREATE TABLE Statement for creating DIMCUSTOMER table\n",
    "create_table_query = '''CREATE TABLE DIMCUSTOMER\n",
    "    (ID             INT  NOT NULL,\n",
    "    CUST_ID        TEXT  NOT NULL,\n",
    "    NAME           TEXT ,\n",
    "    ADDRESS        TEXT ,\n",
    "    CITY           TEXT ,\n",
    "    STARTDATE      DATE ,\n",
    "    ENDDATE        DATE ,\n",
    "    RECENTFLAG     SMALLINT DEFAULT 1,\n",
    "    CONSTRAINT pk_1 PRIMARY KEY (id, cust_id)\n",
    "    );'''\n",
    "\n",
    "cursor.execute(create_table_query)\n",
    "conn.commit()\n",
    "\n",
    "cursor.close()\n",
    "conn.close()\n",
    "    \n",
    "print(\"Table created successfully in PostgreSQL \")"
   ]
  },
  {
   "cell_type": "code",
   "execution_count": null,
   "id": "2323a858",
   "metadata": {},
   "outputs": [],
   "source": []
  }
 ],
 "metadata": {
  "kernelspec": {
   "display_name": "Python 3",
   "language": "python",
   "name": "python3"
  },
  "language_info": {
   "codemirror_mode": {
    "name": "ipython",
    "version": 3
   },
   "file_extension": ".py",
   "mimetype": "text/x-python",
   "name": "python",
   "nbconvert_exporter": "python",
   "pygments_lexer": "ipython3",
   "version": "3.9.5"
  }
 },
 "nbformat": 4,
 "nbformat_minor": 5
}
