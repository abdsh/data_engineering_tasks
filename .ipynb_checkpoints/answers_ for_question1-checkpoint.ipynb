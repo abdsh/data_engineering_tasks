{
 "cells": [
  {
   "cell_type": "code",
   "execution_count": 6,
   "id": "c88765d7",
   "metadata": {},
   "outputs": [],
   "source": [
    "import psycopg2"
   ]
  },
  {
   "cell_type": "markdown",
   "id": "dcfbfc3e",
   "metadata": {},
   "source": [
    "# 1- What is the average order price per customer?"
   ]
  },
  {
   "cell_type": "code",
   "execution_count": 10,
   "id": "15558cbe",
   "metadata": {},
   "outputs": [],
   "source": [
    "# create connection to postgresql \n",
    "conn = psycopg2.connect(database = \"dwh_db\", user = \"postgres\", password = \"postgres\", host = \"127.0.0.1\", port = \"5432\")\n",
    "\n",
    "# create cursor\n",
    "cursor = conn.cursor()\n",
    "\n",
    "ans1_query = '''\n",
    "select FF.cust_id,FF.name,avg(FF.sumprice)\n",
    "from\n",
    "(select DC.cust_id,DC.name,F.orderid,sum(F.quantity*F.uprice) AS sumprice  from factorder F\n",
    "inner join dimcustomer DC\n",
    "on F.c_id = DC.id\n",
    "group by DC.cust_id,DC.name, F.orderid) FF\n",
    "group by FF.cust_id,FF.name\n",
    " '''\n",
    "\n",
    "cursor.execute(ans1_query )\n",
    "records = cursor.fetchall()\n",
    "\n",
    "cursor.close()\n",
    "conn.close()"
   ]
  },
  {
   "cell_type": "code",
   "execution_count": 11,
   "id": "75ab5c73",
   "metadata": {},
   "outputs": [
    {
     "data": {
      "text/plain": [
       "[('CUST-003', 'Smith', Decimal('49.9900000000000000')),\n",
       " ('CUST-002', 'Doe', Decimal('192.9700000000000000')),\n",
       " ('CUST-004', 'Parker', Decimal('48.9900000000000000')),\n",
       " ('CUST-001', 'Jones', Decimal('121.6300000000000000'))]"
      ]
     },
     "execution_count": 11,
     "metadata": {},
     "output_type": "execute_result"
    }
   ],
   "source": [
    "records"
   ]
  },
  {
   "cell_type": "markdown",
   "id": "94a8bc89",
   "metadata": {},
   "source": [
    "# 2-1 How many ‘Vacuum cleaners’ were ordered in New York?"
   ]
  },
  {
   "cell_type": "code",
   "execution_count": 12,
   "id": "c429d089",
   "metadata": {},
   "outputs": [],
   "source": [
    "# create connection to postgresql \n",
    "conn = psycopg2.connect(database = \"dwh_db\", user = \"postgres\", password = \"postgres\", host = \"127.0.0.1\", port = \"5432\")\n",
    "\n",
    "# create cursor\n",
    "cursor = conn.cursor()\n",
    "\n",
    "ans1_query = '''\n",
    "select DP.product_id,DP.name,DC.city,sum(F.quantity) AS sumquantity  from factorder F\n",
    "inner join dimproduct DP\n",
    "on F.p_id = DP.product_id\n",
    "inner join dimcustomer DC\n",
    "on F.c_id = DC.id\n",
    "where DP.name='Vacuum cleaner' and DC.city='New York'\n",
    "group by DP.product_id,DP.name ,DC.city\n",
    "\n",
    " '''\n",
    "\n",
    "cursor.execute(ans1_query )\n",
    "records = cursor.fetchall()\n",
    "\n",
    "cursor.close()\n",
    "conn.close()"
   ]
  },
  {
   "cell_type": "code",
   "execution_count": 13,
   "id": "556d8d16",
   "metadata": {
    "scrolled": true
   },
   "outputs": [
    {
     "data": {
      "text/plain": [
       "[(1, 'Vacuum cleaner', 'New York', 4)]"
      ]
     },
     "execution_count": 13,
     "metadata": {},
     "output_type": "execute_result"
    }
   ],
   "source": [
    "records"
   ]
  },
  {
   "cell_type": "markdown",
   "id": "fc53816b",
   "metadata": {},
   "source": [
    "# 2-2 who bought most of them (Vacuum cleaners) in this city?"
   ]
  },
  {
   "cell_type": "code",
   "execution_count": 14,
   "id": "05c404d6",
   "metadata": {},
   "outputs": [],
   "source": [
    "# create connection to postgresql \n",
    "conn = psycopg2.connect(database = \"dwh_db\", user = \"postgres\", password = \"postgres\", host = \"127.0.0.1\", port = \"5432\")\n",
    "\n",
    "# create cursor\n",
    "cursor = conn.cursor()\n",
    "\n",
    "ans1_query = '''\n",
    "select \n",
    "    FU.product_id,FU.name,FU.city,FU.custname,FU.sumquantity\n",
    "from \n",
    "(select DP.product_id,DP.name,DC.cust_id,DC.name as custname,DC.city,sum(F.quantity) AS sumquantity,\n",
    " rank() over (partition by DP.product_id,DP.name,DC.city order by sum(F.quantity) desc ) as recordrank\n",
    " from factorder F\n",
    "inner join dimproduct DP\n",
    "on F.p_id = DP.product_id\n",
    "inner join dimcustomer DC\n",
    "on F.c_id = DC.id\n",
    "where DP.name='Vacuum cleaner' and DC.city='New York'\n",
    "group by DP.product_id,DP.name,DC.cust_id,DC.name,DC.city) FU\n",
    "where FU.recordrank = 1\n",
    " '''\n",
    "\n",
    "cursor.execute(ans1_query )\n",
    "records = cursor.fetchall()\n",
    "\n",
    "cursor.close()\n",
    "conn.close()"
   ]
  },
  {
   "cell_type": "code",
   "execution_count": 15,
   "id": "f8308609",
   "metadata": {},
   "outputs": [
    {
     "data": {
      "text/plain": [
       "[(1, 'Vacuum cleaner', 'New York', 'Jones', 4)]"
      ]
     },
     "execution_count": 15,
     "metadata": {},
     "output_type": "execute_result"
    }
   ],
   "source": [
    "records"
   ]
  },
  {
   "cell_type": "markdown",
   "id": "dbc6cfa3",
   "metadata": {},
   "source": [
    "# 3 - What product is the most popular in each city?"
   ]
  },
  {
   "cell_type": "code",
   "execution_count": 16,
   "id": "d64d8361",
   "metadata": {},
   "outputs": [],
   "source": [
    "# create connection to postgresql \n",
    "conn = psycopg2.connect(database = \"dwh_db\", user = \"postgres\", password = \"postgres\", host = \"127.0.0.1\", port = \"5432\")\n",
    "\n",
    "# create cursor\n",
    "cursor = conn.cursor()\n",
    "\n",
    "ans1_query = '''\n",
    "select\n",
    "K.city,K.product_id,K.name,K.sumquantity\n",
    "from\n",
    "(select DP.product_id,DP.name,DC.city,sum(F.quantity) AS sumquantity,\n",
    " rank() over (partition by DC.city order by sum(F.quantity) desc ) as recordrank\n",
    " from factorder F\n",
    "inner join dimproduct DP\n",
    "on F.p_id = DP.product_id\n",
    "inner join dimcustomer DC\n",
    "on F.c_id = DC.id\n",
    "group by DP.product_id,DP.name,DC.city) K\n",
    "where K.recordrank=1\n",
    " '''\n",
    "\n",
    "cursor.execute(ans1_query )\n",
    "records = cursor.fetchall()\n",
    "\n",
    "cursor.close()\n",
    "conn.close()"
   ]
  },
  {
   "cell_type": "code",
   "execution_count": 17,
   "id": "db066f93",
   "metadata": {},
   "outputs": [
    {
     "data": {
      "text/plain": [
       "[('Atlanta', 1, 'Vacuum cleaner', 3),\n",
       " ('Baltimore', 1, 'Vacuum cleaner', 1),\n",
       " ('Denver', 1, 'Vacuum cleaner', 1),\n",
       " ('New York', 2, 'Cleaner bags', 5)]"
      ]
     },
     "execution_count": 17,
     "metadata": {},
     "output_type": "execute_result"
    }
   ],
   "source": [
    "records"
   ]
  }
 ],
 "metadata": {
  "kernelspec": {
   "display_name": "Python 3",
   "language": "python",
   "name": "python3"
  },
  "language_info": {
   "codemirror_mode": {
    "name": "ipython",
    "version": 3
   },
   "file_extension": ".py",
   "mimetype": "text/x-python",
   "name": "python",
   "nbconvert_exporter": "python",
   "pygments_lexer": "ipython3",
   "version": "3.9.5"
  }
 },
 "nbformat": 4,
 "nbformat_minor": 5
}
